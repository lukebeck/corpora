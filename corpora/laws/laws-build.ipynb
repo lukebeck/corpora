{
 "cells": [
  {
   "cell_type": "code",
   "execution_count": 11,
   "metadata": {},
   "outputs": [],
   "source": [
    "import re\n",
    "import os\n",
    "import json"
   ]
  },
  {
   "cell_type": "code",
   "execution_count": 12,
   "metadata": {},
   "outputs": [],
   "source": [
    "import sys\n",
    "sys.path.insert(0, '../../')\n",
    "\n",
    "import tokenizer"
   ]
  },
  {
   "cell_type": "code",
   "execution_count": 13,
   "metadata": {},
   "outputs": [],
   "source": [
    "input_dir = '/Users/luke/Projects/corpora/corpora/laws/'\n",
    "output_dir = os.path.join(input_dir, 'tagged')\n",
    "os.makedirs(output_dir, exist_ok=True)"
   ]
  },
  {
   "cell_type": "code",
   "execution_count": 14,
   "metadata": {},
   "outputs": [],
   "source": [
    "article_text = []\n",
    "\n",
    "with open('texts/japan_elaws.jsonl', 'r') as f:\n",
    "    for ln in f:\n",
    "        data = json.loads(ln)\n",
    "        title = data.get('title','')        # returns '' if 'body' key is not present\n",
    "        body = data.get('body','')          # returns '' if 'body' key is not present\n",
    "        body = re.sub(r'\\n', '@@@', body)    # remove all variation of linebreaks\n",
    "        article_text.append(title + \" - \" + body)"
   ]
  },
  {
   "cell_type": "code",
   "execution_count": 15,
   "metadata": {},
   "outputs": [],
   "source": [
    "strings_per_file = 500  # Number of strings per file\n",
    "\n",
    "file_number = 0  # The current file number\n",
    "line_number = 0  # The current line within the file\n",
    "\n",
    "# Open the first file\n",
    "output_file = open(f'texts/laws-{file_number}.txt', 'w')\n",
    "\n",
    "for article in article_text:\n",
    "    # Write the string to the current file\n",
    "    text = []\n",
    "    spans = article.split('@@@')\n",
    "    for span in spans:\n",
    "        text.append(tokenizer.tokenize(span))\n",
    "    output_file.write(\" \".join(text) + '\\n')\n",
    "    \n",
    "    \n",
    "    line_number += 1  # Increment the line number\n",
    "\n",
    "    # If we've written enough lines to this file, move on to the next one\n",
    "    if line_number == strings_per_file:\n",
    "        # Close the current file\n",
    "        output_file.close()\n",
    "        \n",
    "        # Move on to the next file number and reset the line number\n",
    "        file_number += 1\n",
    "        line_number = 0\n",
    "        \n",
    "        # Open the next file\n",
    "        output_file = open(f'texts/laws-{file_number}.txt', 'w')\n",
    "\n",
    "# Don't forget to close the last file!\n",
    "output_file.close()"
   ]
  }
 ],
 "metadata": {
  "kernelspec": {
   "display_name": ".venv",
   "language": "python",
   "name": "python3"
  },
  "language_info": {
   "codemirror_mode": {
    "name": "ipython",
    "version": 3
   },
   "file_extension": ".py",
   "mimetype": "text/x-python",
   "name": "python",
   "nbconvert_exporter": "python",
   "pygments_lexer": "ipython3",
   "version": "3.11.2"
  },
  "orig_nbformat": 4
 },
 "nbformat": 4,
 "nbformat_minor": 2
}
