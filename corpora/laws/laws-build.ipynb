{
 "cells": [
  {
   "cell_type": "code",
   "execution_count": 1,
   "metadata": {},
   "outputs": [],
   "source": [
    "# Import required modules\n",
    "\n",
    "import os\n",
    "import re\n",
    "import csv\n",
    "import json\n",
    "\n",
    "import sys\n",
    "sys.path.insert(0, '../../')\n",
    "\n",
    "import tokenizer"
   ]
  },
  {
   "cell_type": "code",
   "execution_count": 2,
   "metadata": {},
   "outputs": [],
   "source": [
    "# Add all texts to a list\n",
    "\n",
    "text_collection = []\n",
    "texts_file = 'texts/japan_elaws.jsonl'\n",
    "\n",
    "with open(texts_file, 'r') as f:\n",
    "    for ln in f:\n",
    "        data = json.loads(ln)\n",
    "        title = data.get('title','')        # returns '' if 'title' key is not present\n",
    "        body = data.get('body','')          # returns '' if 'body' key is not present\n",
    "\n",
    "        # Text cleanup functions\n",
    "        body = re.sub(r'\\n+', '\\n', body)   # replace multiple newlines with only one\n",
    "\n",
    "        text_collection.append(title + \" - \" + body)"
   ]
  },
  {
   "cell_type": "code",
   "execution_count": 3,
   "metadata": {},
   "outputs": [],
   "source": [
    "# Set the output location\n",
    "\n",
    "input_dir = '/Users/luke/Projects/corpora/corpora/laws/'\n",
    "output_dir = os.path.join(input_dir, 'tagged')\n",
    "os.makedirs(output_dir, exist_ok=True)"
   ]
  },
  {
   "cell_type": "code",
   "execution_count": 4,
   "metadata": {},
   "outputs": [],
   "source": [
    "# Set variables for file name incrementation\n",
    "\n",
    "strings_per_file = 500                  # Number of strings per file\n",
    "file_number = 0                         # The current file number\n",
    "line_number = 0                         # The current line within the file\n",
    "\n",
    "# Buld the word list and tagged corpus\n",
    "word_list = []\n",
    "word_index = {}\n",
    "\n",
    "output_file = open(f'texts/laws-{file_number}.txt', 'w') # Open the first file\n",
    "\n",
    "for text in text_collection:\n",
    "    tokens = tokenizer.tokenize(text)\n",
    "    tokenizer.build_word_list(tokens, word_list, word_index)\n",
    "    output_file.write(tokenizer.tag(tokens) + '\\n')\n",
    "    \n",
    "    line_number += 1                    # Increment the line number\n",
    "\n",
    "    if line_number == strings_per_file: # Move to the next when limit reached\n",
    "        output_file.close()             # Close the current file\n",
    "        file_number += 1                # Move to the next file number\n",
    "        line_number = 0                 # Reset the line number\n",
    "\n",
    "        # Open the next file\n",
    "        output_file = open(f'tagged/laws-{file_number}.txt', 'w')\n",
    "\n",
    "output_file.close()                     # Close the last file"
   ]
  },
  {
   "cell_type": "code",
   "execution_count": 6,
   "metadata": {},
   "outputs": [],
   "source": [
    "# Write the word list to file\n",
    "\n",
    "with open('wordlist.csv', 'w', newline='') as f:\n",
    "    writer = csv.writer(f)\n",
    "    for row in word_list:\n",
    "        writer.writerow(row)"
   ]
  }
 ],
 "metadata": {
  "kernelspec": {
   "display_name": ".venv",
   "language": "python",
   "name": "python3"
  },
  "language_info": {
   "codemirror_mode": {
    "name": "ipython",
    "version": 3
   },
   "file_extension": ".py",
   "mimetype": "text/x-python",
   "name": "python",
   "nbconvert_exporter": "python",
   "pygments_lexer": "ipython3",
   "version": "3.11.2"
  },
  "orig_nbformat": 4
 },
 "nbformat": 4,
 "nbformat_minor": 2
}
