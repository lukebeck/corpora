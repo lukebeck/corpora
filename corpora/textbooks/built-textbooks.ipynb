{
 "cells": [
  {
   "cell_type": "code",
   "execution_count": 5,
   "metadata": {},
   "outputs": [],
   "source": [
    "import os\n",
    "import glob\n",
    "import re"
   ]
  },
  {
   "cell_type": "code",
   "execution_count": 6,
   "metadata": {},
   "outputs": [],
   "source": [
    "import sys\n",
    "sys.path.insert(0, '../../')\n",
    "\n",
    "import tokenizer"
   ]
  },
  {
   "cell_type": "code",
   "execution_count": 7,
   "metadata": {},
   "outputs": [],
   "source": [
    "article_text = []\n",
    "article_folders = os.listdir('./texts/')"
   ]
  },
  {
   "cell_type": "code",
   "execution_count": 8,
   "metadata": {},
   "outputs": [],
   "source": [
    "for folder in article_folders:\n",
    "    shortpath = './texts/' + folder\n",
    "    longpath = '/Users/luke/Projects/corpora/corpora/textbooks/texts/' + folder + '/'\n",
    "    # filename = 'texts' + folder + '.txt'\n",
    "    for fn in os.listdir(shortpath):\n",
    "        try:\n",
    "            text = open(os.path.join(longpath, fn), 'r').read()\n",
    "        except Exception as inst:\n",
    "            print(fn)\n",
    "            print(type(inst))   # the exception instance\n",
    "            print(inst.args)    # arguments stored in .args\n",
    "            print(inst)\n",
    "        \n",
    "        text = re.sub(r'\\n', ' ', text)\n",
    "        \n",
    "        article_text.append(text)"
   ]
  },
  {
   "cell_type": "code",
   "execution_count": 9,
   "metadata": {},
   "outputs": [],
   "source": [
    "article_tag = open('textbook.txt', 'w')\n",
    "for article in article_text:\n",
    "    article_tag.write(tokenizer.tokenize(article))\n",
    "    article_tag.write('\\n')\n",
    "article_tag.close()"
   ]
  }
 ],
 "metadata": {
  "kernelspec": {
   "display_name": ".venv",
   "language": "python",
   "name": "python3"
  },
  "language_info": {
   "codemirror_mode": {
    "name": "ipython",
    "version": 3
   },
   "file_extension": ".py",
   "mimetype": "text/x-python",
   "name": "python",
   "nbconvert_exporter": "python",
   "pygments_lexer": "ipython3",
   "version": "3.11.2"
  },
  "orig_nbformat": 4
 },
 "nbformat": 4,
 "nbformat_minor": 2
}
