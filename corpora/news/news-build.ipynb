{
 "cells": [
  {
   "cell_type": "code",
   "execution_count": 6,
   "metadata": {},
   "outputs": [
    {
     "ename": "TypeError",
     "evalue": "write() argument must be str, not list",
     "output_type": "error",
     "traceback": [
      "\u001b[0;31m---------------------------------------------------------------------------\u001b[0m",
      "\u001b[0;31mTypeError\u001b[0m                                 Traceback (most recent call last)",
      "Cell \u001b[0;32mIn[6], line 36\u001b[0m\n\u001b[1;32m     34\u001b[0m article_tag \u001b[39m=\u001b[39m \u001b[39mopen\u001b[39m(\u001b[39m'\u001b[39m\u001b[39mtagged/news.txt\u001b[39m\u001b[39m'\u001b[39m, \u001b[39m'\u001b[39m\u001b[39mw\u001b[39m\u001b[39m'\u001b[39m)\n\u001b[1;32m     35\u001b[0m \u001b[39mfor\u001b[39;00m article \u001b[39min\u001b[39;00m article_text:\n\u001b[0;32m---> 36\u001b[0m     article_tag\u001b[39m.\u001b[39;49mwrite(tokenizer\u001b[39m.\u001b[39;49mtokenize(article))\n\u001b[1;32m     37\u001b[0m     article_tag\u001b[39m.\u001b[39mwrite(\u001b[39m'\u001b[39m\u001b[39m\\n\u001b[39;00m\u001b[39m'\u001b[39m)\n\u001b[1;32m     38\u001b[0m article_tag\u001b[39m.\u001b[39mclose()\n",
      "\u001b[0;31mTypeError\u001b[0m: write() argument must be str, not list"
     ]
    }
   ],
   "source": [
    "import re\n",
    "import os\n",
    "\n",
    "import sys\n",
    "sys.path.insert(0, '../../')\n",
    "\n",
    "import tokenizer\n",
    "\n",
    "article_text = []\n",
    "article_folders = os.listdir('./texts/')\n",
    "\n",
    "def stripurldate(article):\n",
    "    lines = article.split('\\n')\n",
    "    return '\\n'.join(lines[2:])\n",
    "\n",
    "for folder in article_folders:\n",
    "    shortpath = './texts/' + folder\n",
    "    longpath = '/Users/luke/Projects/corpora/corpora/news/texts/' + folder + '/'\n",
    "    # filename = 'texts' + folder + '.txt'\n",
    "    for fn in os.listdir(shortpath):\n",
    "        try:\n",
    "            text = open(os.path.join(longpath, fn), 'r').read()\n",
    "        except Exception as inst:\n",
    "            print(fn)\n",
    "            print(type(inst))   # the exception instance\n",
    "            print(inst.args)    # arguments stored in .args\n",
    "            print(inst)\n",
    "        \n",
    "        text = stripurldate(text)\n",
    "        text = re.sub(r'\\n', ' ', text)\n",
    "        \n",
    "        article_text.append(text)\n",
    "        \n",
    "article_tag = open('tagged/news.txt', 'w')\n",
    "for article in article_text:\n",
    "    article_tag.write(tokenizer.tokenize(article))\n",
    "    article_tag.write('\\n')\n",
    "article_tag.close()"
   ]
  }
 ],
 "metadata": {
  "kernelspec": {
   "display_name": ".venv",
   "language": "python",
   "name": "python3"
  },
  "language_info": {
   "codemirror_mode": {
    "name": "ipython",
    "version": 3
   },
   "file_extension": ".py",
   "mimetype": "text/x-python",
   "name": "python",
   "nbconvert_exporter": "python",
   "pygments_lexer": "ipython3",
   "version": "3.11.2"
  },
  "orig_nbformat": 4
 },
 "nbformat": 4,
 "nbformat_minor": 2
}
