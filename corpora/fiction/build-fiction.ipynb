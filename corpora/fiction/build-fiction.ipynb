{
 "cells": [
  {
   "cell_type": "code",
   "execution_count": 3,
   "metadata": {},
   "outputs": [],
   "source": [
    "# Import required modules\n",
    "\n",
    "import os\n",
    "import csv\n",
    "\n",
    "import sys\n",
    "sys.path.insert(0, '../../')\n",
    "\n",
    "import tokenizer"
   ]
  },
  {
   "cell_type": "code",
   "execution_count": 4,
   "metadata": {},
   "outputs": [],
   "source": [
    "# Add all texts to a list\n",
    "\n",
    "text_collection = []\n",
    "texts_path = '/Users/luke/Projects/corpora/corpora/fiction/texts/'\n",
    "\n",
    "for fn in os.listdir(texts_path):\n",
    "    try:\n",
    "        text = open(os.path.join(texts_path, fn), 'r').read()\n",
    "    except Exception as inst:\n",
    "        print(fn)\n",
    "        print(type(inst))   # the exception instance\n",
    "        print(inst.args)    # arguments stored in .args\n",
    "        print(inst)\n",
    "    \n",
    "    text_collection.append(text)"
   ]
  },
  {
   "cell_type": "code",
   "execution_count": 5,
   "metadata": {},
   "outputs": [],
   "source": [
    "# Build the word list and tagged corpus\n",
    "\n",
    "word_list = []\n",
    "word_index = {}\n",
    "\n",
    "corpus = open('tagged/fiction.txt', 'w')\n",
    "\n",
    "for text in text_collection:\n",
    "    tokens = tokenizer.tokenize(text)\n",
    "    tokenizer.build_word_list(tokens, word_list, word_index)\n",
    "    corpus.write(tokenizer.tag(tokens))\n",
    "    corpus.write('\\n')\n",
    "corpus.close()\n",
    "\n",
    "with open('wordlist.csv', 'w', newline='') as f:\n",
    "    writer = csv.writer(f)\n",
    "    for row in word_list:\n",
    "        writer.writerow(row)"
   ]
  }
 ],
 "metadata": {
  "kernelspec": {
   "display_name": ".venv",
   "language": "python",
   "name": "python3"
  },
  "language_info": {
   "codemirror_mode": {
    "name": "ipython",
    "version": 3
   },
   "file_extension": ".py",
   "mimetype": "text/x-python",
   "name": "python",
   "nbconvert_exporter": "python",
   "pygments_lexer": "ipython3",
   "version": "3.11.2"
  },
  "orig_nbformat": 4
 },
 "nbformat": 4,
 "nbformat_minor": 2
}
