{
 "cells": [
  {
   "cell_type": "code",
   "execution_count": 26,
   "metadata": {},
   "outputs": [],
   "source": [
    "import os\n",
    "import sys\n",
    "\n",
    "sys.path.insert(0, '../../')\n",
    "\n",
    "import tokenizer"
   ]
  },
  {
   "cell_type": "code",
   "execution_count": 27,
   "metadata": {},
   "outputs": [],
   "source": [
    "texts = []\n",
    "path = '/Users/luke/Projects/corpora/corpora/fiction/texts/'\n",
    "\n",
    "for fn in os.listdir(path):\n",
    "    try:\n",
    "        text = open(os.path.join(path, fn), 'r').read()\n",
    "    except Exception as inst:\n",
    "        print(fn)\n",
    "        print(type(inst))   # the exception instance\n",
    "        print(inst.args)    # arguments stored in .args\n",
    "        print(inst)\n",
    "    \n",
    "    texts.append(text)"
   ]
  },
  {
   "cell_type": "code",
   "execution_count": 29,
   "metadata": {},
   "outputs": [],
   "source": [
    "texts_tagged = open('tagged/fiction.txt', 'w')\n",
    "for text in texts:\n",
    "    content = []\n",
    "    spans = text.split('\\n')\n",
    "    for span in spans:\n",
    "        content.append(tokenizer.tokenize(span))\n",
    "    texts_tagged.write(\" \".join(content) + '\\n')\n",
    "texts_tagged.close()\n"
   ]
  }
 ],
 "metadata": {
  "kernelspec": {
   "display_name": ".venv",
   "language": "python",
   "name": "python3"
  },
  "language_info": {
   "codemirror_mode": {
    "name": "ipython",
    "version": 3
   },
   "file_extension": ".py",
   "mimetype": "text/x-python",
   "name": "python",
   "nbconvert_exporter": "python",
   "pygments_lexer": "ipython3",
   "version": "3.11.2"
  },
  "orig_nbformat": 4
 },
 "nbformat": 4,
 "nbformat_minor": 2
}
